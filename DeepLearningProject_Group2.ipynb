{
  "nbformat": 4,
  "nbformat_minor": 0,
  "metadata": {
    "colab": {
      "name": "DeepLearningProject-Group2.ipynb",
      "provenance": []
    },
    "kernelspec": {
      "name": "python3",
      "display_name": "Python 3"
    },
    "language_info": {
      "name": "python"
    }
  },
  "cells": [
    {
      "cell_type": "markdown",
      "metadata": {
        "id": "yGxmGfMjXmcp"
      },
      "source": [
        "# **Deep Learning Project** - Aerial Perspective Object Detection\n",
        "SEP 769 - Group 2"
      ]
    },
    {
      "cell_type": "code",
      "metadata": {
        "id": "fQmKNgA_GVld"
      },
      "source": [
        ""
      ],
      "execution_count": null,
      "outputs": []
    }
  ]
}