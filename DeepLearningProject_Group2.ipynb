{
  "nbformat": 4,
  "nbformat_minor": 0,
  "metadata": {
    "colab": {
      "name": "DeepLearningProject-Group2.ipynb",
      "provenance": []
    },
    "kernelspec": {
      "name": "python3",
      "display_name": "Python 3"
    },
    "language_info": {
      "name": "python"
    }
  },
  "cells": [
    {
      "cell_type": "markdown",
      "metadata": {
        "id": "yGxmGfMjXmcp"
      },
      "source": [
        "# **Deep Learning Project** - Aerial Perspective Object Detection\n",
        "SEP 769 - Group 2"
      ]
    },
    {
      "cell_type": "code",
      "metadata": {
        "id": "fQmKNgA_GVld",
        "colab": {
          "base_uri": "https://localhost:8080/"
        },
        "outputId": "3dc01711-65fc-4ccb-ad16-638b7783daff"
      },
      "source": [
        "#About semantic segmentation: https://www.jeremyjordan.me/semantic-segmentation/\n",
        "\n",
        "from google.colab import drive\n",
        "drive.mount('/content/gdrive')\n",
        "\n",
        "%cd '/content/gdrive/Shareddrives/SEP_769'\n",
        "\n",
        "%ls\n",
        "\n",
        "#!unzip '/content/gdrive/Shareddrives/SEP_769/archive.zip'\n",
        "\n",
        "\n",
        "#Variable Locations - Kaggle\n",
        "#Original Images: /content/gdrive/dataset/emantic_drone_dataset/original_images\n",
        "#Original Images as Greyscale Segmentation Maps: /content/gdrive/dataset/semantic_drone_dataset/label_images_semantic\n",
        "#Original Images as RGB Segmentation Maps: /content/gdrive/dataset/RGB_color_image_masks/RGB_color_image_masks\n",
        "\n",
        "#Variable Locations - Requested Dataset\n",
        "#Original Images: /content/gdrive/dataset/semantic_drone_dataset/training_set/images\n",
        "#Original Images as RGB Segmentation Maps: /content/gdrive/dataset/semantic_drone_dataset/training_set/gt/semantic/label_images \n",
        "#Original Image labels and locations: /content/gdrive/dataset/semantic_drone_dataset/training_set/gt/semantic/label_me_xml\n"
      ],
      "execution_count": 1,
      "outputs": [
        {
          "output_type": "stream",
          "text": [
            "Mounted at /content/gdrive\n",
            "/content/gdrive/Shareddrives/SEP_769\n",
            "archive.zip         \u001b[0m\u001b[01;34mdataset\u001b[0m/                \u001b[01;34msemantic_drone_dataset\u001b[0m/\n",
            "class_dict_seg.csv  \u001b[01;34mRGB_color_image_masks\u001b[0m/\n"
          ],
          "name": "stdout"
        }
      ]
    }
  ]
}