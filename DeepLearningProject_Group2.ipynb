{
  "nbformat": 4,
  "nbformat_minor": 0,
  "metadata": {
    "colab": {
      "name": "DeepLearningProject-Group2.ipynb",
      "provenance": [],
      "include_colab_link": true
    },
    "kernelspec": {
      "name": "python3",
      "display_name": "Python 3"
    },
    "language_info": {
      "name": "python"
    }
  },
  "cells": [
    {
      "cell_type": "markdown",
      "metadata": {
        "id": "view-in-github",
        "colab_type": "text"
      },
      "source": [
        "<a href=\"https://colab.research.google.com/github/BJToor/sep769-deep-learning-project/blob/adam/DeepLearningProject_Group2.ipynb\" target=\"_parent\"><img src=\"https://colab.research.google.com/assets/colab-badge.svg\" alt=\"Open In Colab\"/></a>"
      ]
    },
    {
      "cell_type": "markdown",
      "metadata": {
        "id": "yGxmGfMjXmcp"
      },
      "source": [
        "# **Deep Learning Project** - Aerial Perspective Object Detection\n",
        "SEP 769 - Group 2"
      ]
    },
    {
      "cell_type": "code",
      "metadata": {
        "id": "fQmKNgA_GVld",
        "outputId": "49aa9ee9-73cd-4c87-b0a1-c105f78cb74a",
        "colab": {
          "base_uri": "https://localhost:8080/",
          "height": 412
        }
      },
      "source": [
        "#About semantic segmentation: https://www.jeremyjordan.me/semantic-segmentation/\n",
        "#TF Tutorial: https://www.tensorflow.org/tutorials/images/segmentation\n",
        "#TF load and process images: https://www.tensorflow.org/tutorials/load_data/images\n",
        "\n",
        "from google.colab import drive\n",
        "import tensorflow as tf\n",
        "import tensorflow_datasets as tfds\n",
        "drive.mount('/content/gdrive')\n",
        "import cv2\n",
        "import glob\n",
        "import numpy as np\n",
        "import os\n",
        "import fnmatch\n",
        "from matplotlib import pyplot as plt\n",
        "\n",
        "if not os.path.exists(\"/content/gdrive/Shareddrives/SEP_769/data/drone_data/\"):\n",
        "  !unzip \"/content/gdrive/Shareddrives/SEP_769/drone_data.zip\" -d \"/content/gdrive/Shareddrives/SEP_769/data\"\n",
        "\n",
        "original_images_path = '/content/gdrive/Shareddrives/SEP_769/data/drone_data/original_images/'\n",
        "original_semantic_path = '/content/gdrive/Shareddrives/SEP_769/data/drone_data/label_images_semantic/'\n",
        "\n",
        "\n",
        "image_count = len(fnmatch.filter(os.listdir(original_images_path), '*.jpg'))\n",
        "print('\\nTotal of {} images at path: \\n{}\\n\\n'.format(image_count, original_images_path))\n",
        "\n",
        "image_count = len(fnmatch.filter(os.listdir(original_semantic_path), '*.png'))\n",
        "print('\\nTotal of {} images at path: \\n{}\\n\\n'.format(image_count, original_semantic_path))\n",
        "\n",
        "\n",
        "image_height = 180\n",
        "image_width = 180\n",
        "\n",
        "original_images = [cv2.resize(cv2.imread(file, flags=1), (0,0), fx=0.05, fy=0.05) for file in glob.glob('{}*.jpg'.format(original_images_path))]  #importing images in color at 5% scale\n",
        "semantic_images = [cv2.resize(cv2.imread(file, flags=1), (0,0), fx=0.05, fy=0.05) for file in glob.glob('{}*.png'.format(original_semantic_path))]  #importing images segmented\n",
        "\n",
        "print('Images loaded.')\n",
        "\n",
        "\n",
        "print('\\n\\n\\n\\n\\n')\n",
        "'''\n",
        "def load_image_train(datapoint):\n",
        "  input_image = tf.image.resize(datapoint['image'], (128, 128))\n",
        "  input_mask = tf.image.resize(datapoint['segmentation_mask'], (128, 128))\n",
        "\n",
        "  if tf.random.uniform(()) > 0.5:\n",
        "    input_image = tf.image.flip_left_right(input_image)\n",
        "    input_mask = tf.image.flip_left_right(input_mask)\n",
        "\n",
        "  input_image, input_mask = normalize(input_image, input_mask)\n",
        "\n",
        "  return input_image, input_mask\n",
        "\n",
        "'''"
      ],
      "execution_count": 3,
      "outputs": [
        {
          "output_type": "stream",
          "text": [
            "Drive already mounted at /content/gdrive; to attempt to forcibly remount, call drive.mount(\"/content/gdrive\", force_remount=True).\n",
            "\n",
            "Total of 400 images at path: \n",
            "/content/gdrive/Shareddrives/SEP_769/data/drone_data/original_images/\n",
            "\n",
            "\n",
            "\n",
            "Total of 400 images at path: \n",
            "/content/gdrive/Shareddrives/SEP_769/data/drone_data/label_images_semantic/\n",
            "\n",
            "\n",
            "Images loaded.\n",
            "\n",
            "\n",
            "\n",
            "\n",
            "\n",
            "\n"
          ],
          "name": "stdout"
        },
        {
          "output_type": "execute_result",
          "data": {
            "application/vnd.google.colaboratory.intrinsic+json": {
              "type": "string"
            },
            "text/plain": [
              "\"\\ndef load_image_train(datapoint):\\n  input_image = tf.image.resize(datapoint['image'], (128, 128))\\n  input_mask = tf.image.resize(datapoint['segmentation_mask'], (128, 128))\\n\\n  if tf.random.uniform(()) > 0.5:\\n    input_image = tf.image.flip_left_right(input_image)\\n    input_mask = tf.image.flip_left_right(input_mask)\\n\\n  input_image, input_mask = normalize(input_image, input_mask)\\n\\n  return input_image, input_mask\\n\\n\""
            ]
          },
          "metadata": {
            "tags": []
          },
          "execution_count": 3
        }
      ]
    },
    {
      "cell_type": "code",
      "metadata": {
        "id": "N8azIZF0CFOd",
        "outputId": "adeb9111-4ec0-4e4f-fd51-43886387d3d2",
        "colab": {
          "base_uri": "https://localhost:8080/"
        }
      },
      "source": [
        "print(original_images[0].shape)\n",
        "print(semantic_images[0].shape)"
      ],
      "execution_count": 6,
      "outputs": [
        {
          "output_type": "stream",
          "text": [
            "(200, 300, 3)\n",
            "(200, 300, 3)\n"
          ],
          "name": "stdout"
        }
      ]
    }
  ]
}