{
  "nbformat": 4,
  "nbformat_minor": 0,
  "metadata": {
    "colab": {
      "name": "DeepLearningProject-Group2.ipynb",
      "provenance": []
    },
    "kernelspec": {
      "name": "python3",
      "display_name": "Python 3"
    },
    "language_info": {
      "name": "python"
    }
  },
  "cells": [
    {
      "cell_type": "markdown",
      "metadata": {
        "id": "yGxmGfMjXmcp"
      },
      "source": [
        "# **Deep Learning Project** - Aerial Perspective Object Detection\n",
        "SEP 769 - Group 2"
      ]
    },
    {
      "cell_type": "code",
      "metadata": {
        "id": "fQmKNgA_GVld",
        "colab": {
          "base_uri": "https://localhost:8080/",
          "height": 819
        },
        "outputId": "a9d98d86-9068-4ce6-a1ca-6c593d36d588"
      },
      "source": [
        "#About semantic segmentation: https://www.jeremyjordan.me/semantic-segmentation/\n",
        "#TF Tutorial: https://www.tensorflow.org/tutorials/images/segmentation\n",
        "#TF load and process images: https://www.tensorflow.org/tutorials/load_data/images\n",
        "\n",
        "from google.colab import drive\n",
        "import pathlib\n",
        "import tensorflow as tf\n",
        "import tensorflow_datasets as tfds\n",
        "drive.mount('/content/gdrive')\n",
        "\n",
        "\n",
        "#%cd '/content/gdrive/Shareddrives/SEP_769/dataset/semantic_drone_dataset/original_images/'\n",
        "#%ls\n",
        "\n",
        "#!unzip '/content/gdrive/Shareddrives/SEP_769/archive.zip'\n",
        "\n",
        "#Variable Locations - Kaggle\n",
        "#Original Images: /content/gdrive/dataset/emantic_drone_dataset/original_images\n",
        "#Original Images as Greyscale Segmentation Maps: /content/gdrive/dataset/semantic_drone_dataset/label_images_semantic\n",
        "#Original Images as RGB Segmentation Maps: /content/gdrive/dataset/RGB_color_image_masks/RGB_color_image_masks\n",
        "\n",
        "#Variable Locations - Requested Dataset\n",
        "#Original Images: /content/gdrive/dataset/semantic_drone_dataset/training_set/images\n",
        "#Original Images as RGB Segmentation Maps: /content/gdrive/dataset/semantic_drone_dataset/training_set/gt/semantic/label_images \n",
        "#Original Image labels and locations: /content/gdrive/dataset/semantic_drone_dataset/training_set/gt/semantic/label_me_xml\n",
        "\n",
        "original_images_path = '/content/gdrive/Shareddrives/SEP_769/dataset/semantic_drone_dataset/original_images/'\n",
        "original_RGB_segmentation_path = '/content/gdrive/dataset/RGB_color_image_masks/RGB_color_image_masks/'\n",
        "\n",
        "#data_dir = tf.keras.utils.get_file(origin=original_images_path, fname='000.jpg', untar=True) /content/gdrive/Shareddrives/SEP_769/dataset\n",
        "data_dir = pathlib.Path(path=original_images_path)\n",
        "\n",
        "image_count = len(list(data_dir.glob('**')))\n",
        "print('\\nTotal of {} images at path: \\n{}\\n\\n'.format(image_count, original_images_path))\n",
        "\n",
        "image_height = 180\n",
        "image_width = 180\n",
        "\n",
        "print('\\n\\n\\n\\n\\n')\n",
        "'''\n",
        "def load_image_train(datapoint):\n",
        "  input_image = tf.image.resize(datapoint['image'], (128, 128))\n",
        "  input_mask = tf.image.resize(datapoint['segmentation_mask'], (128, 128))\n",
        "\n",
        "  if tf.random.uniform(()) > 0.5:\n",
        "    input_image = tf.image.flip_left_right(input_image)\n",
        "    input_mask = tf.image.flip_left_right(input_mask)\n",
        "\n",
        "  input_image, input_mask = normalize(input_image, input_mask)\n",
        "\n",
        "  return input_image, input_mask\n",
        "\n",
        "'''"
      ],
      "execution_count": 24,
      "outputs": [
        {
          "output_type": "stream",
          "text": [
            "Drive already mounted at /content/gdrive; to attempt to forcibly remount, call drive.mount(\"/content/gdrive\", force_remount=True).\n",
            "\n",
            "Total of 446 images at path: \n",
            "/content/gdrive/Shareddrives/SEP_769/dataset/semantic_drone_dataset/original_images/\n",
            "\n",
            "\n",
            "tfds.core.DatasetInfo(\n",
            "    name='image_folder',\n",
            "    version=1.0.0,\n",
            "    description='Generic image classification dataset.',\n",
            "    homepage='https://www.tensorflow.org/datasets/catalog/image_folder',\n",
            "    features=FeaturesDict({\n",
            "        'image': Image(shape=(None, None, 3), dtype=tf.uint8),\n",
            "        'image/filename': Text(shape=(), dtype=tf.string),\n",
            "        'label': ClassLabel(shape=(), dtype=tf.int64, num_classes=0),\n",
            "    }),\n",
            "    total_num_examples=0,\n",
            "    splits={\n",
            "    },\n",
            "    supervised_keys=('image', 'label'),\n",
            "    citation=\"\"\"\"\"\",\n",
            "    redistribution_info=,\n",
            ")\n",
            "\n"
          ],
          "name": "stdout"
        },
        {
          "output_type": "error",
          "ename": "AttributeError",
          "evalue": "ignored",
          "traceback": [
            "\u001b[0;31m---------------------------------------------------------------------------\u001b[0m",
            "\u001b[0;31mAttributeError\u001b[0m                            Traceback (most recent call last)",
            "\u001b[0;32m<ipython-input-24-15b1fbbc2a65>\u001b[0m in \u001b[0;36m<module>\u001b[0;34m()\u001b[0m\n\u001b[1;32m     37\u001b[0m \u001b[0mprint\u001b[0m\u001b[0;34m(\u001b[0m\u001b[0mbuilder\u001b[0m\u001b[0;34m.\u001b[0m\u001b[0minfo\u001b[0m\u001b[0;34m)\u001b[0m\u001b[0;34m\u001b[0m\u001b[0;34m\u001b[0m\u001b[0m\n\u001b[1;32m     38\u001b[0m \u001b[0mds\u001b[0m \u001b[0;34m=\u001b[0m \u001b[0mbuilder\u001b[0m\u001b[0;34m.\u001b[0m\u001b[0mas_dataset\u001b[0m\u001b[0;34m(\u001b[0m\u001b[0;34m)\u001b[0m\u001b[0;34m\u001b[0m\u001b[0;34m\u001b[0m\u001b[0m\n\u001b[0;32m---> 39\u001b[0;31m \u001b[0mtfds\u001b[0m\u001b[0;34m.\u001b[0m\u001b[0mshow_examples\u001b[0m\u001b[0;34m(\u001b[0m\u001b[0mds\u001b[0m\u001b[0;34m,\u001b[0m \u001b[0mbuilder\u001b[0m\u001b[0;34m.\u001b[0m\u001b[0minfo\u001b[0m\u001b[0;34m)\u001b[0m\u001b[0;34m\u001b[0m\u001b[0;34m\u001b[0m\u001b[0m\n\u001b[0m\u001b[1;32m     40\u001b[0m \u001b[0;34m\u001b[0m\u001b[0m\n\u001b[1;32m     41\u001b[0m \u001b[0;34m\u001b[0m\u001b[0m\n",
            "\u001b[0;32m/usr/local/lib/python3.7/dist-packages/tensorflow_datasets/core/visualization/show_examples.py\u001b[0m in \u001b[0;36mshow_examples\u001b[0;34m(ds, ds_info, **options_kwargs)\u001b[0m\n\u001b[1;32m     72\u001b[0m \u001b[0;34m\u001b[0m\u001b[0m\n\u001b[1;32m     73\u001b[0m   \u001b[0;31m# Pack `as_supervised=True` datasets\u001b[0m\u001b[0;34m\u001b[0m\u001b[0;34m\u001b[0m\u001b[0;34m\u001b[0m\u001b[0m\n\u001b[0;32m---> 74\u001b[0;31m   \u001b[0mds\u001b[0m \u001b[0;34m=\u001b[0m \u001b[0mdataset_info\u001b[0m\u001b[0;34m.\u001b[0m\u001b[0mpack_as_supervised_ds\u001b[0m\u001b[0;34m(\u001b[0m\u001b[0mds\u001b[0m\u001b[0;34m,\u001b[0m \u001b[0mds_info\u001b[0m\u001b[0;34m)\u001b[0m\u001b[0;34m\u001b[0m\u001b[0;34m\u001b[0m\u001b[0m\n\u001b[0m\u001b[1;32m     75\u001b[0m \u001b[0;34m\u001b[0m\u001b[0m\n\u001b[1;32m     76\u001b[0m   \u001b[0;32mfor\u001b[0m \u001b[0mvisualizer\u001b[0m \u001b[0;32min\u001b[0m \u001b[0m_ALL_VISUALIZERS\u001b[0m\u001b[0;34m:\u001b[0m\u001b[0;34m\u001b[0m\u001b[0;34m\u001b[0m\u001b[0m\n",
            "\u001b[0;32m/usr/local/lib/python3.7/dist-packages/tensorflow_datasets/core/dataset_info.py\u001b[0m in \u001b[0;36mpack_as_supervised_ds\u001b[0;34m(ds, ds_info)\u001b[0m\n\u001b[1;32m    531\u001b[0m   if (\n\u001b[1;32m    532\u001b[0m       \u001b[0mds_info\u001b[0m\u001b[0;34m.\u001b[0m\u001b[0msupervised_keys\u001b[0m\u001b[0;34m\u001b[0m\u001b[0;34m\u001b[0m\u001b[0m\n\u001b[0;32m--> 533\u001b[0;31m       \u001b[0;32mand\u001b[0m \u001b[0misinstance\u001b[0m\u001b[0;34m(\u001b[0m\u001b[0mds\u001b[0m\u001b[0;34m.\u001b[0m\u001b[0melement_spec\u001b[0m\u001b[0;34m,\u001b[0m \u001b[0mtuple\u001b[0m\u001b[0;34m)\u001b[0m\u001b[0;34m\u001b[0m\u001b[0;34m\u001b[0m\u001b[0m\n\u001b[0m\u001b[1;32m    534\u001b[0m       \u001b[0;32mand\u001b[0m \u001b[0mlen\u001b[0m\u001b[0;34m(\u001b[0m\u001b[0mds\u001b[0m\u001b[0;34m.\u001b[0m\u001b[0melement_spec\u001b[0m\u001b[0;34m)\u001b[0m \u001b[0;34m==\u001b[0m \u001b[0;36m2\u001b[0m\u001b[0;34m\u001b[0m\u001b[0;34m\u001b[0m\u001b[0m\n\u001b[1;32m    535\u001b[0m   ):\n",
            "\u001b[0;31mAttributeError\u001b[0m: 'dict' object has no attribute 'element_spec'"
          ]
        }
      ]
    }
  ]
}